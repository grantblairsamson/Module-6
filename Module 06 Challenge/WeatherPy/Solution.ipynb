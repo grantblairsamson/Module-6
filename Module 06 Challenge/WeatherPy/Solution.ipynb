{
 "cells": [
  {
   "cell_type": "code",
   "execution_count": 1,
   "id": "5f8e475b-2de4-4568-8df0-ccd85ae95850",
   "metadata": {},
   "outputs": [],
   "source": [
    "# import the citypy module\n",
    "from citipy import citipy"
   ]
  },
  {
   "cell_type": "code",
   "execution_count": 2,
   "id": "5e3e3446-7b3d-4e7d-9e3f-82c0ed01ef92",
   "metadata": {},
   "outputs": [
    {
     "name": "stdout",
     "output_type": "stream",
     "text": [
      "atlanta\n"
     ]
    }
   ],
   "source": [
    "# use citipy.nearest_city(Lat, Lng).city_name to find the nearst city name based on Lat and Lng coords\n",
    "\n",
    "# + Latitiude = North hemisphere / - latitude = southern hemisphere\n",
    "# + Latitiude = east of prime meridian / - latitude = west of prime meridian\n",
    "\n",
    "cityName = citipy.nearest_city(33.748, -84.387).city_name\n",
    "\n",
    "print(cityName)"
   ]
  },
  {
   "cell_type": "code",
   "execution_count": null,
   "id": "a4909634-8c6b-46b9-9884-7a147605ba43",
   "metadata": {},
   "outputs": [],
   "source": [
    "import numpy as np"
   ]
  },
  {
   "cell_type": "code",
   "execution_count": null,
   "id": "a7c78da0-db15-49df-a99c-1d08abbe0a2e",
   "metadata": {},
   "outputs": [],
   "source": [
    "latRange = (24, 50)\n",
    "lngRange = (-125, 68)"
   ]
  },
  {
   "cell_type": "code",
   "execution_count": null,
   "id": "c9450254-f792-4267-a51c-1be515bbe6ac",
   "metadata": {},
   "outputs": [],
   "source": [
    "lats = np.random.uniform(latRange[0], latRange[1], size = 50)\n",
    "lons = np.random.uniform(lngRange[0], lngRange[1], size = 50)\n",
    "\n",
    "latLongs = zip(lats, lons)"
   ]
  },
  {
   "cell_type": "code",
   "execution_count": null,
   "id": "3c63a04c-4508-40e4-8b6d-bce03ad8193c",
   "metadata": {},
   "outputs": [],
   "source": []
  }
 ],
 "metadata": {
  "kernelspec": {
   "display_name": "Python 3 (ipykernel)",
   "language": "python",
   "name": "python3"
  },
  "language_info": {
   "codemirror_mode": {
    "name": "ipython",
    "version": 3
   },
   "file_extension": ".py",
   "mimetype": "text/x-python",
   "name": "python",
   "nbconvert_exporter": "python",
   "pygments_lexer": "ipython3",
   "version": "3.12.2"
  }
 },
 "nbformat": 4,
 "nbformat_minor": 5
}
